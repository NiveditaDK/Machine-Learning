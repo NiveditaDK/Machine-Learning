{
 "cells": [
  {
   "cell_type": "code",
   "execution_count": null,
   "metadata": {
    "collapsed": true
   },
   "outputs": [],
   "source": [
    "#SVM with non seperable data with soft margin"
   ]
  },
  {
   "cell_type": "code",
   "execution_count": 3,
   "metadata": {
    "collapsed": false
   },
   "outputs": [
    {
     "name": "stdout",
     "output_type": "stream",
     "text": [
      "     pcost       dcost       gap    pres   dres\n",
      " 0: -2.7291e-01 -7.8823e+00  2e+02  1e+01  4e-13\n",
      " 1: -4.9291e-02 -6.6868e+00  1e+01  4e-01  3e-13\n",
      " 2: -5.4765e-03 -6.5301e-01  8e-01  1e-02  6e-14\n",
      " 3: -2.4641e-07 -7.7935e-03  9e-03  1e-04  7e-15\n",
      " 4: -1.3743e-04 -4.5742e-04  3e-04  1e-06  4e-16\n",
      " 5: -1.8859e-04 -2.6029e-04  7e-05  3e-07  2e-16\n",
      " 6: -2.3110e-04 -2.5058e-04  2e-05  2e-08  2e-16\n",
      " 7: -2.3716e-04 -2.3880e-04  2e-06  2e-09  2e-16\n",
      " 8: -2.3798e-04 -2.3801e-04  3e-08  2e-11  3e-16\n",
      "Optimal solution found.\n",
      "3 support vectors out of 70 points\n",
      "17 out of 30 predictions correct\n",
      "ACCURACY BY FUNCTION 0.666666666667\n",
      "ACCURACY BY MY FUNCTION 0.566666666667\n"
     ]
    },
    {
     "data": {
      "image/png": "[encoded data removed]",
      "text/plain": [
       "<matplotlib.figure.Figure at 0x49a496d8>"
      ]
     },
     "metadata": {},
     "output_type": "display_data"
    }
   ],
   "source": [
    "import numpy as np\n",
    "import math as m\n",
    "from sklearn import metrics\n",
    "import sklearn\n",
    "from sklearn.cross_validation import KFold\n",
    "import urllib\n",
    "import matplotlib as mpl\n",
    "import matplotlib.pyplot as plt\n",
    "from sklearn.datasets import load_iris\n",
    "import cvxopt as cv\n",
    "import pandas as pd\n",
    "from sklearn import svm\n",
    "import cvxopt.solvers\n",
    "from sklearn.metrics import accuracy_score\n",
    "from sklearn.cross_validation import train_test_split\n",
    "%matplotlib inline\n",
    "\n",
    "def main():\n",
    "    iris = load_iris()\n",
    "    X1 = iris.data\n",
    "    y1 = iris.target\n",
    "    X = iris.data[50:150:,0:2] \n",
    "    y = iris.target[50:150]\n",
    "    for i in range(len(y)):\n",
    "        if y[i]==2:\n",
    "            y[i]=-1\n",
    "    \n",
    "    X_train, X_test, y_train, y_test = train_test_split(X, y, test_size=0.30, random_state=42)\n",
    "    x_train1= pd.DataFrame(columns=(range(2)))\n",
    "    x_train2= pd.DataFrame(columns=(range(2)))\n",
    "    for i in range(len(X_train)):\n",
    "        if y_train[i]==-1:\n",
    "            x_train1.loc[i]=X_train[i]\n",
    "        elif y_train[i]==1:\n",
    "            x_train2.loc[i]=X_train[i]\n",
    "    x_train1= np.matrix(x_train1)\n",
    "    x_train2= np.matrix(x_train2)\n",
    "    \n",
    "    n_samples, n_features = X_train.shape\n",
    "    K = np.zeros((n_samples, n_samples))\n",
    "    for i in range(n_samples):\n",
    "        for j in range(n_samples):\n",
    "            K[i,j] = np.dot(X[i], X[j])\n",
    "\n",
    "    m= np.dot(y_train, y_train.T)\n",
    "    b=np.dot(X_train,X_train.T)\n",
    "    P= cv.matrix(np.dot(m,b))\n",
    "#     q=np.full(n_samples, -1)\n",
    "    q = cvxopt.matrix(np.ones(n_samples) * -1)\n",
    "    tmp1 = np.diag(np.ones(n_samples) * -1)\n",
    "    tmp2 = np.identity(n_samples)\n",
    "    G = cv.matrix(np.vstack((tmp1, tmp2)))\n",
    "    tmp1 = np.zeros(n_samples)\n",
    "    tmp2 = np.ones(n_samples) * float(0.1)\n",
    "    h = cv.matrix(np.hstack((tmp1, tmp2)))\n",
    "\n",
    "#     h = cv.matrix(np.zeros(n_samples))\n",
    "#     G = cv.matrix(np.diag(np.ones(n_samples) * -1))\n",
    "    A= cv.matrix(y_train.astype(float),(1,n_samples))\n",
    "    b=cv.matrix(0.0)\n",
    "    solution = cvxopt.solvers.qp(P, q, G, h, A, b)\n",
    "    L = np.ravel(solution['x'])\n",
    "    sv = L > 1e-8\n",
    "    ind = np.arange(len(L))[sv]\n",
    "    L = L[sv]\n",
    "    sv_x = X_train[sv]\n",
    "    sv_y = y_train[sv]\n",
    "    print \"%d support vectors out of %d points\" % (len(L), n_samples)\n",
    "    b = 0\n",
    "    for n in range(len(L)):\n",
    "        b += sv_y[n]\n",
    "#         print a.dtype,sv_y.astype(float).dtype, sv_y.dtype, K[ind[n].astype(int),sv.astype(int)].T.dtype\n",
    "#         b = b- np.sum(np.dot(L, np.dot(sv_y, K[ind[n].astype(int),sv.astype(int)].T)))\n",
    "        b -= np.sum(L * sv_y * K[ind[n],sv])\n",
    "#         b=b-m\n",
    "    b /= len(L)\n",
    "\n",
    "    # Weight vector\n",
    "    \n",
    "    w = np.zeros(n_features)\n",
    "    for n in range(len(L)):\n",
    "        w += L[n] * sv_y[n] * sv_x[n]\n",
    "    y_pred= np.sign(np.dot(X_test, w) + b)\n",
    "    correct = np.sum(y_pred == y_test)\n",
    "    print \"%d out of %d predictions correct\" % (correct, len(y_pred))\n",
    "    d=pd.DataFrame(columns=('y_test','y_pred'))\n",
    "    for i in range(len(y_test)):\n",
    "        d.loc[i]=(y_test[i],y_pred[i])\n",
    "#     print d\n",
    "    clf = svm.SVC()\n",
    "    clf.fit(X_train, y_train) \n",
    "    fun_pred=clf.predict(X_test)\n",
    "    Fun_Accuracy = metrics.accuracy_score(y_test, fun_pred)\n",
    "    print \"ACCURACY BY FUNCTION\", Fun_Accuracy\n",
    "    Accuracy = metrics.accuracy_score(y_test, y_pred)\n",
    "    print \"ACCURACY BY MY FUNCTION\", Accuracy\n",
    "    plt.plot(x_train1[:,0], x_train1[:,1], \"ro\")\n",
    "    plt.plot(x_train2[:,0], x_train2[:,1], \"bo\")\n",
    "    plt.scatter(sv_x[:,0], sv_x[:,1], s=100, c=\"black\")\n",
    "    plt.savefig(\"non-seperable-soft.png\")\n",
    "    \n",
    "if __name__ == \"__main__\":main()"
   ]
  },
  {
   "cell_type": "code",
   "execution_count": null,
   "metadata": {
    "collapsed": true
   },
   "outputs": [],
   "source": []
  }
 ],
 "metadata": {
  "kernelspec": {
   "display_name": "Python 2",
   "language": "python",
   "name": "python2"
  },
  "language_info": {
   "codemirror_mode": {
    "name": "ipython",
    "version": 2
   },
   "file_extension": ".py",
   "mimetype": "text/x-python",
   "name": "python",
   "nbconvert_exporter": "python",
   "pygments_lexer": "ipython2",
   "version": "2.7.11"
  }
 },
 "nbformat": 4,
 "nbformat_minor": 0
}
